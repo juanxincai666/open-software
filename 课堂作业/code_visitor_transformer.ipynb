{
 "cells": [
  {
   "cell_type": "code",
   "execution_count": 1,
   "id": "b2a39e69-88aa-49b5-b110-dab941dd242a",
   "metadata": {},
   "outputs": [],
   "source": [
    "import libcst"
   ]
  },
  {
   "cell_type": "code",
   "execution_count": 2,
   "id": "e69be0b9-4605-447b-b09e-ed7359bbc42d",
   "metadata": {},
   "outputs": [],
   "source": [
    "import lolviz"
   ]
  },
  {
   "cell_type": "code",
   "execution_count": 3,
   "id": "e10e0408-38d8-4efc-ba0c-e6288793b9ae",
   "metadata": {},
   "outputs": [],
   "source": [
    "a = libcst.parse_module(\"def foo(): pass\")"
   ]
  },
  {
   "cell_type": "code",
   "execution_count": 4,
   "id": "720eff31-4bcc-4f93-baff-8b71101aebdb",
   "metadata": {},
   "outputs": [
    {
     "data": {
      "text/plain": [
       "Module(\n",
       "    body=[\n",
       "        FunctionDef(\n",
       "            name=Name(\n",
       "                value='foo',\n",
       "                lpar=[],\n",
       "                rpar=[],\n",
       "            ),\n",
       "            params=Parameters(\n",
       "                params=[],\n",
       "                star_arg=MaybeSentinel.DEFAULT,\n",
       "                kwonly_params=[],\n",
       "                star_kwarg=None,\n",
       "                posonly_params=[],\n",
       "                posonly_ind=MaybeSentinel.DEFAULT,\n",
       "            ),\n",
       "            body=SimpleStatementSuite(\n",
       "                body=[\n",
       "                    Pass(\n",
       "                        semicolon=MaybeSentinel.DEFAULT,\n",
       "                    ),\n",
       "                ],\n",
       "                leading_whitespace=SimpleWhitespace(\n",
       "                    value=' ',\n",
       "                ),\n",
       "                trailing_whitespace=TrailingWhitespace(\n",
       "                    whitespace=SimpleWhitespace(\n",
       "                        value='',\n",
       "                    ),\n",
       "                    comment=None,\n",
       "                    newline=Newline(\n",
       "                        value=None,\n",
       "                    ),\n",
       "                ),\n",
       "            ),\n",
       "            decorators=[],\n",
       "            returns=None,\n",
       "            asynchronous=None,\n",
       "            leading_lines=[],\n",
       "            lines_after_decorators=[],\n",
       "            whitespace_after_def=SimpleWhitespace(\n",
       "                value=' ',\n",
       "            ),\n",
       "            whitespace_after_name=SimpleWhitespace(\n",
       "                value='',\n",
       "            ),\n",
       "            whitespace_before_params=SimpleWhitespace(\n",
       "                value='',\n",
       "            ),\n",
       "            whitespace_before_colon=SimpleWhitespace(\n",
       "                value='',\n",
       "            ),\n",
       "            type_parameters=None,\n",
       "            whitespace_after_type_parameters=SimpleWhitespace(\n",
       "                value='',\n",
       "            ),\n",
       "        ),\n",
       "    ],\n",
       "    header=[],\n",
       "    footer=[],\n",
       "    encoding='utf-8',\n",
       "    default_indent='    ',\n",
       "    default_newline='\\n',\n",
       "    has_trailing_newline=False,\n",
       ")"
      ]
     },
     "execution_count": 4,
     "metadata": {},
     "output_type": "execute_result"
    }
   ],
   "source": [
    "a"
   ]
  },
  {
   "cell_type": "code",
   "execution_count": 5,
   "id": "b9e59722-700c-4e13-a23e-9f9e6c456ea5",
   "metadata": {},
   "outputs": [],
   "source": [
    "class ImportVisitor(libcst.CSTVisitor):\n",
    "    def __init__(self):\n",
    "        self.inImport = False\n",
    "        self.importNames = set()\n",
    "        self.otherNames = set()\n",
    "\n",
    "    def visit_Import(self, node):\n",
    "        self.inImport = True\n",
    "\n",
    "    def leave_Import(self, node):\n",
    "        self.inImport = False\n",
    "\n",
    "    def leave_Name(self, node):\n",
    "        if self.inImport:\n",
    "            self.importNames.add(node.value)\n",
    "        else:\n",
    "            self.otherNames.add(node.value)\n",
    "            "
   ]
  },
  {
   "cell_type": "code",
   "execution_count": 6,
   "id": "325aa331-fddf-49ee-8f0a-7db348843c3d",
   "metadata": {},
   "outputs": [],
   "source": [
    "text = \"\"\"\\\n",
    "import abc\n",
    "import foo\n",
    "abc.func(xyz)\"\"\""
   ]
  },
  {
   "cell_type": "code",
   "execution_count": 7,
   "id": "b99fd5f6-a8e1-4848-83fa-c6368fedda33",
   "metadata": {},
   "outputs": [],
   "source": [
    "code = libcst.parse_module(text)"
   ]
  },
  {
   "cell_type": "code",
   "execution_count": 8,
   "id": "1789d422-d30a-423f-bfe7-367396427e73",
   "metadata": {},
   "outputs": [],
   "source": [
    "visitor = ImportVisitor()"
   ]
  },
  {
   "cell_type": "code",
   "execution_count": 9,
   "id": "9fa2b5f2-7785-41f9-b159-754021529dcf",
   "metadata": {},
   "outputs": [],
   "source": [
    "temp = code.visit(visitor)"
   ]
  },
  {
   "cell_type": "code",
   "execution_count": 10,
   "id": "40a667a6-8dd8-4850-a347-cef49e174839",
   "metadata": {},
   "outputs": [
    {
     "data": {
      "text/plain": [
       "{'abc', 'foo'}"
      ]
     },
     "execution_count": 10,
     "metadata": {},
     "output_type": "execute_result"
    }
   ],
   "source": [
    "visitor.importNames"
   ]
  },
  {
   "cell_type": "code",
   "execution_count": 11,
   "id": "778ffc41-5616-4a24-b282-41c59903ae78",
   "metadata": {},
   "outputs": [
    {
     "data": {
      "text/plain": [
       "{'abc', 'func', 'xyz'}"
      ]
     },
     "execution_count": 11,
     "metadata": {},
     "output_type": "execute_result"
    }
   ],
   "source": [
    "visitor.otherNames"
   ]
  },
  {
   "cell_type": "code",
   "execution_count": 12,
   "id": "c4fea976-e959-4067-a79f-f9321de24ea5",
   "metadata": {},
   "outputs": [
    {
     "data": {
      "text/plain": [
       "{'foo'}"
      ]
     },
     "execution_count": 12,
     "metadata": {},
     "output_type": "execute_result"
    }
   ],
   "source": [
    "visitor.importNames - visitor.otherNames"
   ]
  },
  {
   "cell_type": "code",
   "execution_count": 13,
   "id": "f7d760a1-1c9c-4de3-89e2-3dcc0f45df9f",
   "metadata": {},
   "outputs": [],
   "source": [
    "class FuncVarVisitor(libcst.CSTVisitor):\n",
    "    def __init__(self):\n",
    "        self.current = list()\n",
    "        self.func_var = dict()\n",
    "    def visit_FunctionDef(self, node):\n",
    "        name = node.name.value\n",
    "        self.current.append(name)\n",
    "        self.func_var[\"::\".join(self.current)] = set()\n",
    "    def leave_FunctionDef(self, node):\n",
    "        self.current.pop()\n",
    "    def leave_Name(self, node):\n",
    "        if self.current:\n",
    "            func = self.current[-1]\n",
    "            name = node.value\n",
    "            self.func_var[\"::\".join(self.current)].add(name)\n",
    "            "
   ]
  },
  {
   "cell_type": "code",
   "execution_count": 14,
   "id": "8f069eed-90dc-4fb5-a276-99aec790ac6d",
   "metadata": {},
   "outputs": [],
   "source": [
    "code = libcst.parse_module(\"\"\"\\\n",
    "def foo():\n",
    "    a = 10\n",
    "    return a * 20\n",
    "\n",
    "def bar():\n",
    "    def inner():\n",
    "        var = 20\n",
    "        return var\n",
    "    buz = 1\n",
    "    return buz + 1\n",
    "\n",
    "foo()\n",
    "bar()\"\"\")\n",
    "\n"
   ]
  },
  {
   "cell_type": "code",
   "execution_count": 15,
   "id": "e64e80b0-aba9-4c4d-8f4d-9f2254a7ab36",
   "metadata": {},
   "outputs": [],
   "source": [
    "func_var = FuncVarVisitor()"
   ]
  },
  {
   "cell_type": "code",
   "execution_count": 16,
   "id": "10859adc-afe6-4bbc-8d5c-b2fb308444ea",
   "metadata": {},
   "outputs": [],
   "source": [
    "temp = code.visit(func_var)"
   ]
  },
  {
   "cell_type": "code",
   "execution_count": 17,
   "id": "14cde7d1-4d8c-42a9-bbc2-31e7b4e96771",
   "metadata": {},
   "outputs": [
    {
     "data": {
      "text/plain": [
       "{'foo': {'a', 'foo'}, 'bar': {'bar', 'buz'}, 'bar::inner': {'inner', 'var'}}"
      ]
     },
     "execution_count": 17,
     "metadata": {},
     "output_type": "execute_result"
    }
   ],
   "source": [
    "func_var.func_var"
   ]
  },
  {
   "cell_type": "code",
   "execution_count": 18,
   "id": "475380ab-c1c1-41b6-9852-87491304428f",
   "metadata": {},
   "outputs": [],
   "source": [
    "import re"
   ]
  },
  {
   "cell_type": "code",
   "execution_count": 19,
   "id": "d7c119a4-6310-47ed-9983-c1e07ac715bf",
   "metadata": {},
   "outputs": [
    {
     "data": {
      "text/plain": [
       "'aabcdabc7'"
      ]
     },
     "execution_count": 19,
     "metadata": {},
     "output_type": "execute_result"
    }
   ],
   "source": [
    "re.sub(r\"\\d{3}\", \"abc\", \"a123d4567\")"
   ]
  },
  {
   "cell_type": "code",
   "execution_count": 20,
   "id": "f821a362-743a-4172-b585-602a8690c2e5",
   "metadata": {},
   "outputs": [
    {
     "data": {
      "text/plain": [
       "'Abc Def 1ff'"
      ]
     },
     "execution_count": 20,
     "metadata": {},
     "output_type": "execute_result"
    }
   ],
   "source": [
    "re.sub(r\"\\b[a-z]\", lambda m: m.group(0).upper(), \"abc def 1ff\")"
   ]
  },
  {
   "cell_type": "code",
   "execution_count": 21,
   "id": "812edf01-0fbc-430c-8b75-817c01201b3f",
   "metadata": {},
   "outputs": [],
   "source": [
    "class Snake2Camel(libcst.CSTTransformer):\n",
    "    def leave_FunctionDef(self, node, updated):\n",
    "        name = updated.name.value\n",
    "        camel_name = re.sub(r\"_([a-z])\", lambda m: m.group(1).upper(), name)\n",
    "        return libcst.FunctionDef(name=libcst.Name(value=camel_name), params=updated.params, body=updated.body)"
   ]
  },
  {
   "cell_type": "code",
   "execution_count": 22,
   "id": "c717fd84-7d01-47f6-8975-6456cf1d8311",
   "metadata": {},
   "outputs": [],
   "source": [
    "snake = libcst.parse_module(\"\"\"\\\n",
    "def foo_bar():\n",
    "    a = 10\n",
    "    return a * 20\n",
    "\n",
    "def bar_buz():\n",
    "    def inner():\n",
    "        var = 20\n",
    "        return var\n",
    "    buz = 1\n",
    "    return buz + 1\n",
    "\"\"\")"
   ]
  },
  {
   "cell_type": "code",
   "execution_count": 23,
   "id": "104a4b5a-5e11-4c8d-a5b8-804d4371989e",
   "metadata": {},
   "outputs": [],
   "source": [
    "snake2camel = Snake2Camel()"
   ]
  },
  {
   "cell_type": "code",
   "execution_count": 24,
   "id": "fa91589b-586f-4ec4-9b9d-c63d7ae6aef6",
   "metadata": {},
   "outputs": [],
   "source": [
    "camel = snake.visit(snake2camel)"
   ]
  },
  {
   "cell_type": "code",
   "execution_count": 25,
   "id": "01b23cc6-6e79-4f37-a85e-3ab2b89df945",
   "metadata": {},
   "outputs": [
    {
     "name": "stdout",
     "output_type": "stream",
     "text": [
      "def fooBar():\n",
      "    a = 10\n",
      "    return a * 20\n",
      "def barBuz():\n",
      "    def inner():\n",
      "        var = 20\n",
      "        return var\n",
      "    buz = 1\n",
      "    return buz + 1\n",
      "\n"
     ]
    }
   ],
   "source": [
    "print(camel.code)"
   ]
  },
  {
   "cell_type": "code",
   "execution_count": null,
   "id": "e68c270d-04ae-4014-8819-c13172bd28dc",
   "metadata": {},
   "outputs": [],
   "source": []
  }
 ],
 "metadata": {
  "kernelspec": {
   "display_name": "Python 3 (ipykernel)",
   "language": "python",
   "name": "python3"
  },
  "language_info": {
   "codemirror_mode": {
    "name": "ipython",
    "version": 3
   },
   "file_extension": ".py",
   "mimetype": "text/x-python",
   "name": "python",
   "nbconvert_exporter": "python",
   "pygments_lexer": "ipython3",
   "version": "3.12.0"
  }
 },
 "nbformat": 4,
 "nbformat_minor": 5
}
