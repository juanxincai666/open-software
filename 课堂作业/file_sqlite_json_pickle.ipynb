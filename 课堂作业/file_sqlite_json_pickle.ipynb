{
 "cells": [
  {
   "cell_type": "markdown",
   "id": "b8e9ead7-f337-4a70-a6b6-491b9d06b137",
   "metadata": {},
   "source": [
    "# plain io"
   ]
  },
  {
   "cell_type": "code",
   "execution_count": 1,
   "id": "cc6e0e24-75ff-41f3-83c0-8194c2dae3dd",
   "metadata": {},
   "outputs": [],
   "source": [
    "f = open(\"a.txt\", \"w\")\n",
    "f.write(\"hello world\\n\")\n",
    "f.close()"
   ]
  },
  {
   "cell_type": "code",
   "execution_count": 2,
   "id": "73599a31-479d-43e9-8ee0-90911c344be5",
   "metadata": {},
   "outputs": [
    {
     "name": "stdout",
     "output_type": "stream",
     "text": [
      "hello world\n",
      "\n"
     ]
    }
   ],
   "source": [
    "with open(\"a.txt\", \"r\") as f:\n",
    "    content = f.read()\n",
    "print(content)"
   ]
  },
  {
   "cell_type": "markdown",
   "id": "9c84ec53-2ff9-42ab-885b-eedf115aca5a",
   "metadata": {},
   "source": [
    "# csv"
   ]
  },
  {
   "cell_type": "code",
   "execution_count": 3,
   "id": "6fe1d8c3-0833-40f1-a616-cbef80cde47d",
   "metadata": {},
   "outputs": [],
   "source": [
    "import csv"
   ]
  },
  {
   "cell_type": "code",
   "execution_count": 4,
   "id": "79f1b2e2-0c15-4946-8669-92df25ec9345",
   "metadata": {},
   "outputs": [],
   "source": [
    "students = (('id', 'name', 'age'),\n",
    "            (123, 'zhangsan', 18),\n",
    "            (124, 'lisi', 19),\n",
    "            (125, 'zhouwu', 20),)"
   ]
  },
  {
   "cell_type": "code",
   "execution_count": 5,
   "id": "c496f70a-6f57-4eee-be6c-8adacffdb8d8",
   "metadata": {},
   "outputs": [],
   "source": [
    "with open(\"students.csv\", \"w\", newline=\"\") as f:\n",
    "    writer = csv.writer(f)\n",
    "    writer.writerows(students)"
   ]
  },
  {
   "cell_type": "code",
   "execution_count": 6,
   "id": "fdc8038c-b97a-434e-821b-15c1676333fa",
   "metadata": {},
   "outputs": [
    {
     "name": "stdout",
     "output_type": "stream",
     "text": [
      "['id', 'name', 'age']\n",
      "['123', 'zhangsan', '18']\n",
      "['124', 'lisi', '19']\n",
      "['125', 'zhouwu', '20']\n"
     ]
    }
   ],
   "source": [
    "with open(\"students.csv\", \"r\", newline=\"\") as f:\n",
    "    reader = csv.reader(f)\n",
    "    for row in reader:\n",
    "        print(row)"
   ]
  },
  {
   "cell_type": "code",
   "execution_count": 7,
   "id": "6d33d6e0-0548-4849-8270-e23545ab9fcc",
   "metadata": {},
   "outputs": [],
   "source": [
    "import sqlite3"
   ]
  },
  {
   "cell_type": "code",
   "execution_count": 8,
   "id": "d23ec9f7-3917-4e3d-b159-9eda712599d1",
   "metadata": {},
   "outputs": [],
   "source": [
    "con_mem = sqlite3.connect(\":memory:\")"
   ]
  },
  {
   "cell_type": "code",
   "execution_count": 9,
   "id": "c20d1bb0-435a-423f-9a94-e3a5d917c8a9",
   "metadata": {},
   "outputs": [
    {
     "data": {
      "text/plain": [
       "<sqlite3.Cursor at 0x212c6ab11c0>"
      ]
     },
     "execution_count": 9,
     "metadata": {},
     "output_type": "execute_result"
    }
   ],
   "source": [
    "con_mem.execute(\"create table students (ID int, name text)\")"
   ]
  },
  {
   "cell_type": "code",
   "execution_count": 10,
   "id": "d1bcd2c4-77de-4627-ae03-1d819a6ab47e",
   "metadata": {},
   "outputs": [],
   "source": [
    "con_mem.close() # no table saved"
   ]
  },
  {
   "cell_type": "code",
   "execution_count": 11,
   "id": "f2821a2a-a484-436f-ba34-b7be97293395",
   "metadata": {},
   "outputs": [],
   "source": [
    "con = sqlite3.connect(\"students.db\")"
   ]
  },
  {
   "cell_type": "code",
   "execution_count": 12,
   "id": "90b28d78-a48f-469f-ac70-fa833776be3e",
   "metadata": {},
   "outputs": [
    {
     "data": {
      "text/plain": [
       "<sqlite3.Cursor at 0x212c6ab22c0>"
      ]
     },
     "execution_count": 12,
     "metadata": {},
     "output_type": "execute_result"
    }
   ],
   "source": [
    "con.execute(\"create table students (ID int, name text)\")"
   ]
  },
  {
   "cell_type": "code",
   "execution_count": 13,
   "id": "a480e2d8-664a-4178-a111-d2b499b18d37",
   "metadata": {},
   "outputs": [
    {
     "data": {
      "text/plain": [
       "<sqlite3.Cursor at 0x212c6ab2240>"
      ]
     },
     "execution_count": 13,
     "metadata": {},
     "output_type": "execute_result"
    }
   ],
   "source": [
    "con.execute(\"insert into students values (123, 'zhangsan')\")"
   ]
  },
  {
   "cell_type": "code",
   "execution_count": 14,
   "id": "726960ee-3df0-4044-bfd7-fa9098f130bd",
   "metadata": {},
   "outputs": [],
   "source": [
    "res = con.execute(\"select * from students\")"
   ]
  },
  {
   "cell_type": "code",
   "execution_count": 15,
   "id": "f2a9e670-2949-434d-9f48-f5b65a1e0cba",
   "metadata": {},
   "outputs": [
    {
     "data": {
      "text/plain": [
       "<sqlite3.Cursor at 0x212c6ab1340>"
      ]
     },
     "execution_count": 15,
     "metadata": {},
     "output_type": "execute_result"
    }
   ],
   "source": [
    "res"
   ]
  },
  {
   "cell_type": "code",
   "execution_count": 16,
   "id": "0b34002d-d8c4-4918-900f-d5cdd5001713",
   "metadata": {},
   "outputs": [
    {
     "name": "stdout",
     "output_type": "stream",
     "text": [
      "(123, 'zhangsan')\n"
     ]
    }
   ],
   "source": [
    "for row in res:\n",
    "    print(row)"
   ]
  },
  {
   "cell_type": "code",
   "execution_count": 17,
   "id": "6190a701-887b-4f2f-81cc-7219cfe3565b",
   "metadata": {},
   "outputs": [],
   "source": [
    "def query_by_name(connection, name):\n",
    "    script = f\"select * from students where name='{name}';\"\n",
    "    print(script)\n",
    "    res = connection.execute(script)\n",
    "    for row in res:\n",
    "        print(row)"
   ]
  },
  {
   "cell_type": "code",
   "execution_count": 18,
   "id": "587ee3f2-0062-490a-a3c3-823a3c809f77",
   "metadata": {},
   "outputs": [
    {
     "name": "stdout",
     "output_type": "stream",
     "text": [
      "select * from students where name='zhangsan';\n",
      "(123, 'zhangsan')\n"
     ]
    }
   ],
   "source": [
    "query_by_name(con, \"zhangsan\")"
   ]
  },
  {
   "cell_type": "code",
   "execution_count": 19,
   "id": "7a9993f7-2c6e-47f8-8e00-0df0f109d023",
   "metadata": {},
   "outputs": [
    {
     "name": "stdout",
     "output_type": "stream",
     "text": [
      "select * from students where name='' or true; --';\n",
      "(123, 'zhangsan')\n"
     ]
    }
   ],
   "source": [
    "query_by_name(con, \"' or true; --\")"
   ]
  },
  {
   "cell_type": "code",
   "execution_count": 20,
   "id": "e804252f-b14a-4bd3-97b9-29931210915a",
   "metadata": {},
   "outputs": [],
   "source": [
    "def query_by_name_placeholder(connection, name):\n",
    "    sql = \"select * from students where name=?\"\n",
    "    res = connection.execute(sql, (name, ))\n",
    "    for row in res:\n",
    "        print(row)"
   ]
  },
  {
   "cell_type": "code",
   "execution_count": 21,
   "id": "7953063c-201e-459d-a94a-651f02e220d5",
   "metadata": {},
   "outputs": [],
   "source": [
    "query_by_name_placeholder(con, \"' or true; --\")"
   ]
  },
  {
   "cell_type": "code",
   "execution_count": 22,
   "id": "b9a14d16-49be-4ece-b768-4e8b1bebf784",
   "metadata": {},
   "outputs": [
    {
     "name": "stdout",
     "output_type": "stream",
     "text": [
      "(123, 'zhangsan')\n"
     ]
    }
   ],
   "source": [
    "query_by_name_placeholder(con, \"zhangsan\")"
   ]
  },
  {
   "cell_type": "code",
   "execution_count": 23,
   "id": "442eeb93-9b16-4444-bf61-958c9bc78886",
   "metadata": {},
   "outputs": [],
   "source": [
    "script = \"\"\"\n",
    "insert into students values (124, 'lisi');\n",
    "insert into students values (125, 'zhouwu');\n",
    "insert into students values (126, 'wangliu');\n",
    "\"\"\""
   ]
  },
  {
   "cell_type": "code",
   "execution_count": 24,
   "id": "ffaaef81-ad04-4567-9717-3cdc595ba1bb",
   "metadata": {},
   "outputs": [
    {
     "data": {
      "text/plain": [
       "<sqlite3.Cursor at 0x212c5a12240>"
      ]
     },
     "execution_count": 24,
     "metadata": {},
     "output_type": "execute_result"
    }
   ],
   "source": [
    "con.executescript(script)"
   ]
  },
  {
   "cell_type": "code",
   "execution_count": 25,
   "id": "380e8edd-a498-478c-a0b9-5553dba7a00a",
   "metadata": {},
   "outputs": [
    {
     "name": "stdout",
     "output_type": "stream",
     "text": [
      "(123, 'zhangsan')\n",
      "(124, 'lisi')\n",
      "(125, 'zhouwu')\n",
      "(126, 'wangliu')\n"
     ]
    }
   ],
   "source": [
    "for res in con.execute(\"select * from students\"):\n",
    "    print(res)"
   ]
  },
  {
   "cell_type": "markdown",
   "id": "36dc46d9-f53f-4dd3-9d46-17acfb8c9725",
   "metadata": {},
   "source": [
    "# json"
   ]
  },
  {
   "cell_type": "code",
   "execution_count": 26,
   "id": "d39574ba-bce9-45ef-a03f-fe2eb7c556e3",
   "metadata": {},
   "outputs": [],
   "source": [
    "import json"
   ]
  },
  {
   "cell_type": "code",
   "execution_count": 27,
   "id": "d8457934-6b4f-40fd-b47d-7a9cf8a916b9",
   "metadata": {},
   "outputs": [],
   "source": [
    "s = json.loads('{\"name\": \"zhangsan\", \"age\": 12}')"
   ]
  },
  {
   "cell_type": "code",
   "execution_count": 28,
   "id": "0a7c1470-b834-461b-a522-eb98151746ab",
   "metadata": {},
   "outputs": [],
   "source": [
    "with open(\"s.json\", \"w\") as f:\n",
    "    json.dump(s, f)"
   ]
  },
  {
   "cell_type": "code",
   "execution_count": 29,
   "id": "5e94e4e0-9e20-4fc5-a969-1343ec0f8e30",
   "metadata": {},
   "outputs": [
    {
     "name": "stdout",
     "output_type": "stream",
     "text": [
      "{'name': 'zhangsan', 'age': 12}\n"
     ]
    }
   ],
   "source": [
    "with open(\"s.json\", \"r\") as f:\n",
    "    t = json.load(f)\n",
    "    print(t)"
   ]
  },
  {
   "cell_type": "markdown",
   "id": "7fc6f633-571c-4d97-a837-d264f0099149",
   "metadata": {},
   "source": [
    "# pickle"
   ]
  },
  {
   "cell_type": "code",
   "execution_count": 30,
   "id": "6b44543e-23ca-4dd0-bcf4-11f45a6f9f69",
   "metadata": {},
   "outputs": [],
   "source": [
    "import pickle"
   ]
  },
  {
   "cell_type": "code",
   "execution_count": 31,
   "id": "c6fcf2b5-260f-48d8-b9dd-505e720f81e6",
   "metadata": {},
   "outputs": [],
   "source": [
    "with open(\"s.pk\", \"wb\") as f:\n",
    "    pickle.dump(s, f)"
   ]
  },
  {
   "cell_type": "code",
   "execution_count": 32,
   "id": "19705c06-3f21-4e9a-9557-5fc222583f47",
   "metadata": {},
   "outputs": [
    {
     "name": "stdout",
     "output_type": "stream",
     "text": [
      "{'name': 'zhangsan', 'age': 12}\n"
     ]
    }
   ],
   "source": [
    "with open(\"s.pk\", \"rb\") as f:\n",
    "    u = pickle.load(f)\n",
    "    print(u)"
   ]
  },
  {
   "cell_type": "code",
   "execution_count": 33,
   "id": "2ecc09b4-e1aa-4d37-8af3-39973c64cb91",
   "metadata": {},
   "outputs": [],
   "source": [
    "class A:\n",
    "    def __init__(self, a):\n",
    "        self.a = a\n",
    "    def display(self):\n",
    "        print(self.a)"
   ]
  },
  {
   "cell_type": "code",
   "execution_count": 34,
   "id": "cc803da3-de50-43fd-b4f6-bd727dca9b43",
   "metadata": {},
   "outputs": [],
   "source": [
    "obj = A(\"hello\")"
   ]
  },
  {
   "cell_type": "code",
   "execution_count": 35,
   "id": "36fb7d9f-a69b-4a74-bfd5-9afe7014bdb5",
   "metadata": {},
   "outputs": [],
   "source": [
    "with open(\"obj.pk\", \"wb\") as f:\n",
    "    pickle.dump(obj, f)"
   ]
  },
  {
   "cell_type": "code",
   "execution_count": 37,
   "id": "facf9cc1-ba1f-46d9-855f-e336a2428a73",
   "metadata": {},
   "outputs": [
    {
     "name": "stdout",
     "output_type": "stream",
     "text": [
      "hello\n"
     ]
    }
   ],
   "source": [
    "with open(\"obj.pk\", \"rb\") as f:\n",
    "    obj2 = pickle.load(f)\n",
    "    obj2.display()"
   ]
  },
  {
   "cell_type": "code",
   "execution_count": null,
   "id": "b49dcc9c-e465-44f6-940d-ef6764527331",
   "metadata": {},
   "outputs": [],
   "source": []
  },
  {
   "cell_type": "code",
   "execution_count": null,
   "id": "f8fb7b8d-578f-4af6-b4ab-13bd0f2c3d0b",
   "metadata": {},
   "outputs": [],
   "source": [
    "\n"
   ]
  }
 ],
 "metadata": {
  "kernelspec": {
   "display_name": "Python 3 (ipykernel)",
   "language": "python",
   "name": "python3"
  },
  "language_info": {
   "codemirror_mode": {
    "name": "ipython",
    "version": 3
   },
   "file_extension": ".py",
   "mimetype": "text/x-python",
   "name": "python",
   "nbconvert_exporter": "python",
   "pygments_lexer": "ipython3",
   "version": "3.12.0"
  }
 },
 "nbformat": 4,
 "nbformat_minor": 5
}
